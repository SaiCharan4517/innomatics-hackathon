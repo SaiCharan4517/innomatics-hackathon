{
 "cells": [
  {
   "cell_type": "code",
   "execution_count": 3,
   "id": "7cbb005a",
   "metadata": {},
   "outputs": [],
   "source": [
    "import pandas as pd\n",
    "\n",
    "# Load the movies.csv file\n",
    "movies_df = pd.read_csv(\"C:/Users/SAI CHARAN/Desktop/movies.csv\")\n"
   ]
  },
  {
   "cell_type": "code",
   "execution_count": 4,
   "id": "f39d5ca2",
   "metadata": {},
   "outputs": [
    {
     "name": "stdout",
     "output_type": "stream",
     "text": [
      "(9742, 3)\n"
     ]
    }
   ],
   "source": [
    "# Get the shape of the dataframe\n",
    "shape = movies_df.shape\n",
    "print(shape)\n"
   ]
  },
  {
   "cell_type": "code",
   "execution_count": 5,
   "id": "669b5f7c",
   "metadata": {},
   "outputs": [],
   "source": [
    "import pandas as pd\n",
    "\n",
    "# Load the ratings.csv file\n",
    "ratings_df = pd.read_csv(\"C:/Users/SAI CHARAN/Desktop/ratings.csv\")\n"
   ]
  },
  {
   "cell_type": "code",
   "execution_count": 6,
   "id": "aa2bf52f",
   "metadata": {},
   "outputs": [
    {
     "name": "stdout",
     "output_type": "stream",
     "text": [
      "(100836, 4)\n"
     ]
    }
   ],
   "source": [
    "# Get the shape of the dataframe\n",
    "shape = ratings_df.shape\n",
    "print(shape)\n"
   ]
  },
  {
   "cell_type": "code",
   "execution_count": 7,
   "id": "bf46f93c",
   "metadata": {},
   "outputs": [],
   "source": [
    "import pandas as pd\n",
    "\n",
    "# Replace 'ratings.csv' with the actual path to the file\n",
    "ratings_df = pd.read_csv(\"C:/Users/SAI CHARAN/Desktop/ratings.csv\")"
   ]
  },
  {
   "cell_type": "code",
   "execution_count": 8,
   "id": "ddb1a436",
   "metadata": {},
   "outputs": [
    {
     "name": "stdout",
     "output_type": "stream",
     "text": [
      "610\n"
     ]
    }
   ],
   "source": [
    "unique_user_ids = ratings_df['userId'].nunique()\n",
    "print(unique_user_ids)"
   ]
  },
  {
   "cell_type": "code",
   "execution_count": 9,
   "id": "8d4cd9a3",
   "metadata": {},
   "outputs": [],
   "source": [
    "import pandas as pd\n",
    "\n",
    "# Load the ratings and movies datasets\n",
    "ratings_df = pd.read_csv(\"C:/Users/SAI CHARAN/Desktop/ratings.csv\")\n",
    "movies_df = pd.read_csv(\"C:/Users/SAI CHARAN/Desktop/movies.csv\")\n"
   ]
  },
  {
   "cell_type": "code",
   "execution_count": 10,
   "id": "826facec",
   "metadata": {},
   "outputs": [
    {
     "name": "stdout",
     "output_type": "stream",
     "text": [
      "Forrest Gump (1994)\n"
     ]
    }
   ],
   "source": [
    "# Count the number of ratings per movie\n",
    "movie_ratings_count = ratings_df['movieId'].value_counts()\n",
    "\n",
    "# Get the movieId with the maximum number of ratings\n",
    "max_rated_movie_id = movie_ratings_count.idxmax()\n",
    "\n",
    "# Find the movie title corresponding to that movieId\n",
    "max_rated_movie = movies_df[movies_df['movieId'] == max_rated_movie_id]['title'].values[0]\n",
    "\n",
    "print(max_rated_movie)"
   ]
  },
  {
   "cell_type": "code",
   "execution_count": 11,
   "id": "43e4548f",
   "metadata": {},
   "outputs": [],
   "source": [
    "import pandas as pd\n",
    "\n",
    "# Load the tags and movies datasets\n",
    "tags_df = pd.read_csv(\"C:/Users/SAI CHARAN/Desktop/tags.csv\")\n",
    "movies_df = pd.read_csv(\"C:/Users/SAI CHARAN/Desktop/movies.csv\")"
   ]
  },
  {
   "cell_type": "code",
   "execution_count": 12,
   "id": "95d0f5f8",
   "metadata": {},
   "outputs": [],
   "source": [
    "matrix_movie_id = movies_df[movies_df['title'] == 'Matrix, The (1999)']['movieId'].values[0]"
   ]
  },
  {
   "cell_type": "code",
   "execution_count": 13,
   "id": "9bc17e38",
   "metadata": {},
   "outputs": [
    {
     "name": "stdout",
     "output_type": "stream",
     "text": [
      "['martial arts' 'sci-fi' 'alternate universe' 'philosophy'\n",
      " 'post apocalyptic']\n"
     ]
    }
   ],
   "source": [
    "matrix_tags = tags_df[tags_df['movieId'] == matrix_movie_id]['tag'].unique()\n",
    "print(matrix_tags)"
   ]
  },
  {
   "cell_type": "code",
   "execution_count": 14,
   "id": "7e175688",
   "metadata": {},
   "outputs": [],
   "source": [
    "import pandas as pd\n",
    "\n",
    "# Load the ratings and movies datasets\n",
    "ratings_df = pd.read_csv(\"C:/Users/SAI CHARAN/Desktop/ratings.csv\")\n",
    "movies_df = pd.read_csv(\"C:/Users/SAI CHARAN/Desktop/movies.csv\")"
   ]
  },
  {
   "cell_type": "code",
   "execution_count": 15,
   "id": "8c3c36ea",
   "metadata": {},
   "outputs": [],
   "source": [
    "t2_movie_id = movies_df[movies_df['title'] == 'Terminator 2: Judgment Day (1991)']['movieId'].values[0]"
   ]
  },
  {
   "cell_type": "code",
   "execution_count": 16,
   "id": "8f50f6d4",
   "metadata": {},
   "outputs": [
    {
     "name": "stdout",
     "output_type": "stream",
     "text": [
      "3.970982142857143\n"
     ]
    }
   ],
   "source": [
    "t2_avg_rating = ratings_df[ratings_df['movieId'] == t2_movie_id]['rating'].mean()\n",
    "print(t2_avg_rating)"
   ]
  },
  {
   "cell_type": "code",
   "execution_count": 17,
   "id": "a5e616a5",
   "metadata": {},
   "outputs": [],
   "source": [
    "import pandas as pd\n",
    "import matplotlib.pyplot as plt\n",
    "\n",
    "# Load the ratings and movies datasets\n",
    "ratings_df = pd.read_csv(\"C:/Users/SAI CHARAN/Desktop/ratings.csv\")\n",
    "movies_df = pd.read_csv(\"C:/Users/SAI CHARAN/Desktop/movies.csv\")"
   ]
  },
  {
   "cell_type": "code",
   "execution_count": 18,
   "id": "069d04ed",
   "metadata": {},
   "outputs": [],
   "source": [
    "fight_club_movie_id = movies_df[movies_df['title'] == 'Fight Club (1999)']['movieId'].values[0]"
   ]
  },
  {
   "cell_type": "code",
   "execution_count": 19,
   "id": "9b7d20c9",
   "metadata": {},
   "outputs": [],
   "source": [
    "fight_club_ratings = ratings_df[ratings_df['movieId'] == fight_club_movie_id]['rating']"
   ]
  },
  {
   "cell_type": "code",
   "execution_count": 20,
   "id": "02d390c1",
   "metadata": {},
   "outputs": [
    {
     "data": {
      "image/png": "[encoded data removed]",
      "text/plain": [
       "<Figure size 640x480 with 1 Axes>"
      ]
     },
     "metadata": {},
     "output_type": "display_data"
    }
   ],
   "source": [
    "fight_club_ratings.plot(kind='hist', bins=10, edgecolor='black')\n",
    "plt.xlabel('Rating')\n",
    "plt.ylabel('Frequency')\n",
    "plt.title('User Ratings Distribution for Fight Club (1999)')\n",
    "plt.show()\n"
   ]
  },
  {
   "cell_type": "code",
   "execution_count": 21,
   "id": "cca84f70",
   "metadata": {},
   "outputs": [],
   "source": [
    "import pandas as pd\n",
    "\n",
    "# Load the ratings and movies datasets\n",
    "ratings_df = pd.read_csv(\"C:/Users/SAI CHARAN/Desktop/ratings.csv\")\n",
    "movies_df = pd.read_csv(\"C:/Users/SAI CHARAN/Desktop/movies.csv\")\n",
    "\n",
    "# Group by movieId and apply aggregation (count and mean)\n",
    "grouped_ratings = ratings_df.groupby('movieId').agg(\n",
    "    rating_count=('rating', 'count'),\n",
    "    rating_mean=('rating', 'mean')\n",
    ").reset_index()"
   ]
  },
  {
   "cell_type": "code",
   "execution_count": 22,
   "id": "69a17bbd",
   "metadata": {},
   "outputs": [],
   "source": [
    "# Perform an inner join on movieId between movies_df and grouped_ratings\n",
    "merged_df = pd.merge(movies_df, grouped_ratings, on='movieId', how='inner')\n",
    "\n"
   ]
  },
  {
   "cell_type": "code",
   "execution_count": 23,
   "id": "3f24fad0",
   "metadata": {},
   "outputs": [],
   "source": [
    "# Filter movies with more than 50 user ratings\n",
    "filtered_df = merged_df[merged_df['rating_count'] > 50]"
   ]
  },
  {
   "cell_type": "code",
   "execution_count": 24,
   "id": "846d9dd4",
   "metadata": {},
   "outputs": [
    {
     "name": "stdout",
     "output_type": "stream",
     "text": [
      "Shawshank Redemption, The (1994)\n"
     ]
    }
   ],
   "source": [
    "# Sort the filtered dataframe by rating_mean in descending order\n",
    "most_popular_movie = filtered_df.sort_values(by='rating_mean', ascending=False).iloc[0]\n",
    "\n",
    "# Extract the title of the most popular movie\n",
    "most_popular_movie_title = most_popular_movie['title']\n",
    "print(most_popular_movie_title)"
   ]
  },
  {
   "cell_type": "code",
   "execution_count": 25,
   "id": "4170669d",
   "metadata": {},
   "outputs": [
    {
     "name": "stdout",
     "output_type": "stream",
     "text": [
      "['Forrest Gump (1994)', 'Shawshank Redemption, The (1994)', 'Pulp Fiction (1994)', 'Silence of the Lambs, The (1991)', 'Matrix, The (1999)']\n"
     ]
    }
   ],
   "source": [
    "# Sort the filtered dataframe by rating_count in descending order\n",
    "top_5_movies = filtered_df.sort_values(by='rating_count', ascending=False).head(5)\n",
    "\n",
    "# Extract the titles of the top 5 movies\n",
    "top_5_movie_titles = top_5_movies['title'].tolist()\n",
    "print(top_5_movie_titles)\n"
   ]
  },
  {
   "cell_type": "code",
   "execution_count": 26,
   "id": "1e0d4d93",
   "metadata": {},
   "outputs": [
    {
     "name": "stdout",
     "output_type": "stream",
     "text": [
      "Jurassic Park (1993)\n"
     ]
    }
   ],
   "source": [
    "# Assuming 'genres' column in movies_df contains genre information\n",
    "# Filter Sci-Fi movies\n",
    "sci_fi_movies = filtered_df[filtered_df['genres'].str.contains('Sci-Fi')]\n",
    "\n",
    "# Sort the Sci-Fi movies by rating_count in descending order\n",
    "sci_fi_sorted = sci_fi_movies.sort_values(by='rating_count', ascending=False)\n",
    "\n",
    "# Get the third most popular Sci-Fi movie\n",
    "third_most_popular_sci_fi = sci_fi_sorted.iloc[2]  # 2 because indexing starts at 0\n",
    "\n",
    "# Extract the title of the third most popular Sci-Fi movie\n",
    "third_most_popular_sci_fi_title = third_most_popular_sci_fi['title']\n",
    "print(third_most_popular_sci_fi_title)\n"
   ]
  },
  {
   "cell_type": "code",
   "execution_count": null,
   "id": "5aa11175",
   "metadata": {},
   "outputs": [],
   "source": [
    "import pandas as pd\n",
    "\n",
    "# Load the filtered movies with more than 50 user ratings\n",
    "filtered_df = pd.read_csv(\"C:/Users/SAI CHARAN/Desktop/movies.csv\")  # Adjust filename if needed\n",
    "\n",
    "# Load links.csv\n",
    "links_df = pd.read_csv(\"C:/Users/SAI CHARAN/Desktop/links.csv\")\n",
    "\n",
    "# Merge dataframes to get IMDb IDs\n",
    "merged_df = pd.merge(filtered_df, links_df, on='movieId', how='inner')\n"
   ]
  }
 ],
 "metadata": {
  "kernelspec": {
   "display_name": "Python 3 (ipykernel)",
   "language": "python",
   "name": "python3"
  },
  "language_info": {
   "codemirror_mode": {
    "name": "ipython",
    "version": 3
   },
   "file_extension": ".py",
   "mimetype": "text/x-python",
   "name": "python",
   "nbconvert_exporter": "python",
   "pygments_lexer": "ipython3",
   "version": "3.10.9"
  }
 },
 "nbformat": 4,
 "nbformat_minor": 5
}
